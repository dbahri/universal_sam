{
 "cells": [
  {
   "cell_type": "code",
   "execution_count": 15,
   "id": "ed1ccdb4-444b-4970-9445-b287d86a2d77",
   "metadata": {},
   "outputs": [],
   "source": [
    "import pickle\n",
    "with open('/tmp/cifar10_frobsam/all.pickle', 'rb') as f_:\n",
    "    data = pickle.load(f_)"
   ]
  },
  {
   "cell_type": "code",
   "execution_count": 16,
   "id": "b0a9ea3f-0b6e-4c84-a9d0-2131df25a386",
   "metadata": {},
   "outputs": [
    {
     "name": "stdout",
     "output_type": "stream",
     "text": [
      "final cifar10 test accuracy: 31.33\n"
     ]
    }
   ],
   "source": [
    "print(f\"final cifar10 test accuracy: {data['results']['val_stats'][-1]['test_acc1']}\")"
   ]
  },
  {
   "cell_type": "code",
   "execution_count": 17,
   "id": "93f145bd-2260-41ae-99a5-0977cca4cb42",
   "metadata": {},
   "outputs": [],
   "source": [
    "with open('/tmp/mnist_frosam/all.pickle', 'rb') as f_:\n",
    "    data = pickle.load(f_)"
   ]
  },
  {
   "cell_type": "code",
   "execution_count": 18,
   "id": "b5acf782-c6a2-4d2a-a52d-96b744154674",
   "metadata": {},
   "outputs": [],
   "source": [
    "import numpy as np\n",
    "fronorm_each_epoch = [np.mean(x) for x in data['results']['hessian_data']['frobenius']]"
   ]
  },
  {
   "cell_type": "code",
   "execution_count": null,
   "id": "9bdec570-8242-4a24-b3d3-1966c70d7be6",
   "metadata": {},
   "outputs": [],
   "source": [
    "from matplotlib import pyplot as plt\n",
    "\n",
    "plt.plot(fronorm_each_epoch)\n",
    "plt.title('mnist (frob-sam)')\n",
    "plt.xlabel('epoch')\n",
    "plt.ylabel('hessian frob. norm squared')\n",
    "plt.show()"
   ]
  }
 ],
 "metadata": {
  "kernelspec": {
   "display_name": "Python 3 (ipykernel)",
   "language": "python",
   "name": "python3"
  },
  "language_info": {
   "codemirror_mode": {
    "name": "ipython",
    "version": 3
   },
   "file_extension": ".py",
   "mimetype": "text/x-python",
   "name": "python",
   "nbconvert_exporter": "python",
   "pygments_lexer": "ipython3",
   "version": "3.10.13"
  }
 },
 "nbformat": 4,
 "nbformat_minor": 5
}
